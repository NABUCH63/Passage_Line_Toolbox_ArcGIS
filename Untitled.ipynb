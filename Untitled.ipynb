{
 "cells": [
  {
   "cell_type": "code",
   "execution_count": null,
   "id": "24ec77aa",
   "metadata": {},
   "outputs": [],
   "source": [
    "import arcpy\n",
    "import pandas as pd\n",
    "import math"
   ]
  },
  {
   "cell_type": "code",
   "execution_count": null,
   "id": "2c57d439",
   "metadata": {},
   "outputs": [],
   "source": [
    "input_tracks = \"\"\n",
    "input_passage = \"\"\n",
    "output_spjoin = \"\"\n",
    "\n",
    "\n",
    "\n",
    "# spatial join\n",
    "arcpy.analysis.SpatialJoin(target_features=\"\", join_features=\"\", out_feature_class=Output_Feature_Class, join_operation=\"JOIN_ONE_TO_MANY\", join_type=\"KEEP_ALL\", field_mapping=\"\", match_option=\"INTERSECT\", search_radius=\"\", distance_field_name=\"\")\n",
    "\n",
    "\n"
   ]
  }
 ],
 "metadata": {
  "kernelspec": {
   "display_name": "PythonData",
   "language": "python",
   "name": "pythondata"
  },
  "language_info": {
   "codemirror_mode": {
    "name": "ipython",
    "version": 3
   },
   "file_extension": ".py",
   "mimetype": "text/x-python",
   "name": "python",
   "nbconvert_exporter": "python",
   "pygments_lexer": "ipython3",
   "version": "3.9.7"
  }
 },
 "nbformat": 4,
 "nbformat_minor": 5
}
