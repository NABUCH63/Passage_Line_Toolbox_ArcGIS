{
 "cells": [
  {
   "cell_type": "markdown",
   "id": "9ec82093",
   "metadata": {},
   "source": [
    "import pandas as pd\n",
    "import math\n",
    "## starts with a spatial join, pick an attribute as the waterway/passage line label (currently \"JOIN_FID\")"
   ]
  },
  {
   "cell_type": "code",
   "execution_count": 2,
   "id": "56da40df",
   "metadata": {},
   "outputs": [],
   "source": [
    "all_pass = pd.read_csv(\"01FEB_WAMS/2021_SF_WWY.csv\")"
   ]
  },
  {
   "cell_type": "code",
   "execution_count": null,
   "id": "6d304843",
   "metadata": {},
   "outputs": [],
   "source": [
    "## temp hold for arcpro layer select\n",
    "# import pandas as pd\n",
    "# from arcgis.features import GeoAccessor, GeoSeriesAccessor\n",
    "\n",
    "# SEDF = pd.DataFrame.spatial.from_featureclass(\"T2021_Track_WGS84_RAW\")\n",
    "\n",
    "# rename_dict = {x:x.split(\".\")[1] for x in SEDF if x != \"SHAPE\"}\n",
    "\n",
    "# SEDF.rename(columns=rename_dict, inplace=True)\n",
    "# SEDF = SEDF[[\"MMSI\", \"VesselType\", \"Length\", \"Join_Count\", \"NAME\"]]\n",
    "\n",
    "# SEDF.to_csv(\"C:/Users/NABuch/Desktop/Makah/01FEB_WAMS/2021_SF_WWY.csv\")"
   ]
  },
  {
   "cell_type": "code",
   "execution_count": 3,
   "id": "8f14e2cb",
   "metadata": {},
   "outputs": [],
   "source": [
    "all_pass = all_pass[all_pass[\"Join_Count\"] > 0]"
   ]
  },
  {
   "cell_type": "code",
   "execution_count": 4,
   "id": "ae029d09",
   "metadata": {},
   "outputs": [
    {
     "data": {
      "text/html": [
       "<div>\n",
       "<style scoped>\n",
       "    .dataframe tbody tr th:only-of-type {\n",
       "        vertical-align: middle;\n",
       "    }\n",
       "\n",
       "    .dataframe tbody tr th {\n",
       "        vertical-align: top;\n",
       "    }\n",
       "\n",
       "    .dataframe thead th {\n",
       "        text-align: right;\n",
       "    }\n",
       "</style>\n",
       "<table border=\"1\" class=\"dataframe\">\n",
       "  <thead>\n",
       "    <tr style=\"text-align: right;\">\n",
       "      <th></th>\n",
       "      <th>NAME</th>\n",
       "      <th>VesselType</th>\n",
       "      <th>Unnamed: 0</th>\n",
       "      <th>MMSI</th>\n",
       "      <th>Length</th>\n",
       "      <th>Join_Count</th>\n",
       "    </tr>\n",
       "  </thead>\n",
       "  <tbody>\n",
       "    <tr>\n",
       "      <th>0</th>\n",
       "      <td>BODEGA BAY</td>\n",
       "      <td>30.0</td>\n",
       "      <td>114</td>\n",
       "      <td>114</td>\n",
       "      <td>112</td>\n",
       "      <td>114</td>\n",
       "    </tr>\n",
       "    <tr>\n",
       "      <th>1</th>\n",
       "      <td>BODEGA BAY</td>\n",
       "      <td>36.0</td>\n",
       "      <td>26</td>\n",
       "      <td>26</td>\n",
       "      <td>26</td>\n",
       "      <td>26</td>\n",
       "    </tr>\n",
       "    <tr>\n",
       "      <th>2</th>\n",
       "      <td>BODEGA BAY</td>\n",
       "      <td>37.0</td>\n",
       "      <td>70</td>\n",
       "      <td>70</td>\n",
       "      <td>58</td>\n",
       "      <td>70</td>\n",
       "    </tr>\n",
       "    <tr>\n",
       "      <th>3</th>\n",
       "      <td>BODEGA BAY</td>\n",
       "      <td>90.0</td>\n",
       "      <td>18</td>\n",
       "      <td>18</td>\n",
       "      <td>6</td>\n",
       "      <td>18</td>\n",
       "    </tr>\n",
       "    <tr>\n",
       "      <th>4</th>\n",
       "      <td>CARQUINEZ STRAIT</td>\n",
       "      <td>0.0</td>\n",
       "      <td>33</td>\n",
       "      <td>33</td>\n",
       "      <td>10</td>\n",
       "      <td>33</td>\n",
       "    </tr>\n",
       "  </tbody>\n",
       "</table>\n",
       "</div>"
      ],
      "text/plain": [
       "               NAME  VesselType  Unnamed: 0  MMSI  Length  Join_Count\n",
       "0        BODEGA BAY        30.0         114   114     112         114\n",
       "1        BODEGA BAY        36.0          26    26      26          26\n",
       "2        BODEGA BAY        37.0          70    70      58          70\n",
       "3        BODEGA BAY        90.0          18    18       6          18\n",
       "4  CARQUINEZ STRAIT         0.0          33    33      10          33"
      ]
     },
     "execution_count": 4,
     "metadata": {},
     "output_type": "execute_result"
    }
   ],
   "source": [
    "transit_df = all_pass.groupby(by=['NAME', 'VesselType']).count().reset_index()\n",
    "unique_df = all_pass.groupby(by=['NAME', 'VesselType', 'MMSI']).count().reset_index()\n",
    "transit_df.head()"
   ]
  },
  {
   "cell_type": "code",
   "execution_count": 5,
   "id": "d9f6b769",
   "metadata": {},
   "outputs": [],
   "source": [
    "new_df = pd.DataFrame(columns=[\"Waterway\", \"Vessel_Type\", \"Total_Transits\", \"Unique_Vessels\"])\n",
    "temp_type = pd.unique(all_pass[\"VesselType\"])\n",
    "temp_label = pd.unique(all_pass[\"NAME\"])\n"
   ]
  },
  {
   "cell_type": "code",
   "execution_count": 6,
   "id": "3ff0efef",
   "metadata": {},
   "outputs": [
    {
     "data": {
      "text/html": [
       "<div>\n",
       "<style scoped>\n",
       "    .dataframe tbody tr th:only-of-type {\n",
       "        vertical-align: middle;\n",
       "    }\n",
       "\n",
       "    .dataframe tbody tr th {\n",
       "        vertical-align: top;\n",
       "    }\n",
       "\n",
       "    .dataframe thead th {\n",
       "        text-align: right;\n",
       "    }\n",
       "</style>\n",
       "<table border=\"1\" class=\"dataframe\">\n",
       "  <thead>\n",
       "    <tr style=\"text-align: right;\">\n",
       "      <th></th>\n",
       "      <th>Waterway</th>\n",
       "      <th>Vessel_Type</th>\n",
       "      <th>Total_Transits</th>\n",
       "      <th>Unique_Vessels</th>\n",
       "    </tr>\n",
       "  </thead>\n",
       "  <tbody>\n",
       "    <tr>\n",
       "      <th>0</th>\n",
       "      <td>SACRAMENTO DEEP WATER SHIP CHANNEL (DWSC)</td>\n",
       "      <td>0.0</td>\n",
       "      <td>NaN</td>\n",
       "      <td>NaN</td>\n",
       "    </tr>\n",
       "    <tr>\n",
       "      <th>1</th>\n",
       "      <td>SACRAMENTO DEEP WATER SHIP CHANNEL (DWSC)</td>\n",
       "      <td>37.0</td>\n",
       "      <td>NaN</td>\n",
       "      <td>NaN</td>\n",
       "    </tr>\n",
       "    <tr>\n",
       "      <th>2</th>\n",
       "      <td>SACRAMENTO DEEP WATER SHIP CHANNEL (DWSC)</td>\n",
       "      <td>74.0</td>\n",
       "      <td>NaN</td>\n",
       "      <td>NaN</td>\n",
       "    </tr>\n",
       "    <tr>\n",
       "      <th>3</th>\n",
       "      <td>SACRAMENTO DEEP WATER SHIP CHANNEL (DWSC)</td>\n",
       "      <td>70.0</td>\n",
       "      <td>NaN</td>\n",
       "      <td>NaN</td>\n",
       "    </tr>\n",
       "    <tr>\n",
       "      <th>4</th>\n",
       "      <td>SACRAMENTO DEEP WATER SHIP CHANNEL (DWSC)</td>\n",
       "      <td>36.0</td>\n",
       "      <td>NaN</td>\n",
       "      <td>NaN</td>\n",
       "    </tr>\n",
       "  </tbody>\n",
       "</table>\n",
       "</div>"
      ],
      "text/plain": [
       "                                    Waterway  Vessel_Type  Total_Transits  \\\n",
       "0  SACRAMENTO DEEP WATER SHIP CHANNEL (DWSC)          0.0             NaN   \n",
       "1  SACRAMENTO DEEP WATER SHIP CHANNEL (DWSC)         37.0             NaN   \n",
       "2  SACRAMENTO DEEP WATER SHIP CHANNEL (DWSC)         74.0             NaN   \n",
       "3  SACRAMENTO DEEP WATER SHIP CHANNEL (DWSC)         70.0             NaN   \n",
       "4  SACRAMENTO DEEP WATER SHIP CHANNEL (DWSC)         36.0             NaN   \n",
       "\n",
       "   Unique_Vessels  \n",
       "0             NaN  \n",
       "1             NaN  \n",
       "2             NaN  \n",
       "3             NaN  \n",
       "4             NaN  "
      ]
     },
     "execution_count": 6,
     "metadata": {},
     "output_type": "execute_result"
    }
   ],
   "source": [
    "\n",
    "for x in range(len(temp_label)):\n",
    "    for i in range(len(temp_type)):\n",
    "        new_df = new_df.append({\"Waterway\": temp_label[x], \"Vessel_Type\": temp_type[i]}, ignore_index=True)\n",
    "\n",
    "new_df.head()\n"
   ]
  },
  {
   "cell_type": "code",
   "execution_count": 7,
   "id": "2c881db8",
   "metadata": {},
   "outputs": [],
   "source": [
    "for x in new_df.index:\n",
    "    temp_transit = transit_df[(transit_df[\"VesselType\"] == new_df[\"Vessel_Type\"][x]) & (transit_df[\"NAME\"] == new_df[\"Waterway\"][x])].reset_index(drop=True)\n",
    "    temp_transit.head()\n",
    "    if len(temp_transit) > 0:\n",
    "        new_df.iloc[x, 2] = temp_transit[\"MMSI\"][0]\n",
    "    else: new_df.iloc[x, 2] = 0\n",
    "    temp_unique = unique_df[(unique_df[\"VesselType\"] == new_df[\"Vessel_Type\"][x]) & (unique_df[\"NAME\"] == new_df[\"Waterway\"][x])].reset_index(drop=True)\n",
    "    if len(temp_unique) > 0:\n",
    "        new_df.iloc[x, 3] = len(temp_unique[\"MMSI\"])\n",
    "    else: new_df.iloc[x, 3] = 0\n",
    "    "
   ]
  },
  {
   "cell_type": "code",
   "execution_count": 8,
   "id": "15a00281",
   "metadata": {},
   "outputs": [
    {
     "data": {
      "text/plain": [
       "0                BODEGA BAY\n",
       "1          CARQUINEZ STRAIT\n",
       "2      CORTE MADERA CHANNEL\n",
       "3    EAST SAN FRANCISCO BAY\n",
       "4         GULF OF FARALLONS\n",
       "Name: Waterway, dtype: object"
      ]
     },
     "execution_count": 8,
     "metadata": {},
     "output_type": "execute_result"
    }
   ],
   "source": [
    "Aggregate_temp = new_df.groupby(by=\"Waterway\").sum().reset_index()\n",
    "Aggregate_temp = Aggregate_temp[\"Waterway\"]\n",
    "Aggregate_temp.head()"
   ]
  },
  {
   "cell_type": "code",
   "execution_count": 9,
   "id": "44d608f5",
   "metadata": {},
   "outputs": [],
   "source": [
    "Passage_line_df = pd.DataFrame(columns=[\"Waterway\", \"Max_Len\", \"Unique_Fishing\", \"Transits_Fishing\", \"Unique_Tug_Tow\", \"Transits_Tug_Tow\", \"Unique_Recreational\", \"Transits_Recreational\", \"Unique_Passenger\", \"Transits_Passenger\", \"Unique_Cargo\", \"Transits_Cargo\", \"Unique_Tanker\", \"Transits_Tanker\", \"Unique_Other\", \"Transits_Other\", \"Unique_Total\", \"Transits_Total\"])\n",
    "Passage_line_df[\"Waterway\"] = Aggregate_temp\n",
    "Passage_line_df[\"Max_Len\"] = 0\n",
    "Passage_line_df[\"Unique_Fishing\"] = 0\n",
    "Passage_line_df[\"Unique_Tug_Tow\"] = 0\n",
    "Passage_line_df[\"Unique_Recreational\"] = 0\n",
    "Passage_line_df[\"Unique_Passenger\"] = 0\n",
    "Passage_line_df[\"Unique_Cargo\"] = 0\n",
    "Passage_line_df[\"Unique_Tanker\"] = 0\n",
    "Passage_line_df[\"Unique_Other\"] = 0\n",
    "Passage_line_df[\"Unique_Total\"] = 0\n",
    "Passage_line_df[\"Transits_Fishing\"] = 0\n",
    "Passage_line_df[\"Transits_Tug_Tow\"] = 0\n",
    "Passage_line_df[\"Transits_Recreational\"] = 0\n",
    "Passage_line_df[\"Transits_Passenger\"] = 0\n",
    "Passage_line_df[\"Transits_Cargo\"] = 0\n",
    "Passage_line_df[\"Transits_Tanker\"] = 0\n",
    "Passage_line_df[\"Transits_Other\"] = 0\n",
    "Passage_line_df[\"Transits_Total\"] = 0\n"
   ]
  },
  {
   "cell_type": "code",
   "execution_count": 11,
   "id": "3ba82415",
   "metadata": {},
   "outputs": [],
   "source": [
    "for i in Passage_line_df.index:\n",
    "    maxim = [x for x in all_pass[all_pass[\"NAME\"] == Passage_line_df[\"Waterway\"][i]][\"Length\"] if math.isnan(x) == False]\n",
    "    if len(maxim) > 0:\n",
    "        Passage_line_df.loc[i, \"Max_Len\"] = max(maxim)\n",
    "    else:\n",
    "        Passage_line_df.loc[i, \"Max_Len\"] = \"\"\n",
    "    for x in new_df.index:\n",
    "        if new_df[\"Waterway\"][x] == Passage_line_df[\"Waterway\"][i]:\n",
    "            Passage_line_df.loc[i, \"Unique_Total\"] += new_df[\"Unique_Vessels\"][x]\n",
    "            Passage_line_df.loc[i, \"Transits_Total\"] += new_df[\"Total_Transits\"][x]\n",
    "        if new_df[\"Vessel_Type\"][x] == 30 and new_df[\"Waterway\"][x] == Passage_line_df[\"Waterway\"][i]:\n",
    "            Passage_line_df.loc[i, \"Unique_Fishing\"] += new_df[\"Unique_Vessels\"][x]\n",
    "            Passage_line_df.loc[i, \"Transits_Fishing\"] += new_df[\"Total_Transits\"][x]\n",
    "        elif (new_df[\"Vessel_Type\"][x] == 31 or new_df[\"Vessel_Type\"][x] == 32 or new_df[\"Vessel_Type\"][x] == 52) and new_df[\"Waterway\"][x] == Passage_line_df[\"Waterway\"][i]:\n",
    "            Passage_line_df.loc[i, \"Unique_Tug_Tow\"] += new_df[\"Unique_Vessels\"][x]\n",
    "            Passage_line_df.loc[i, \"Transits_Tug_Tow\"] += new_df[\"Total_Transits\"][x]\n",
    "        elif (new_df[\"Vessel_Type\"][x] == 36 or new_df[\"Vessel_Type\"][x] == 37) and new_df[\"Waterway\"][x] == Passage_line_df[\"Waterway\"][i]:\n",
    "            Passage_line_df.loc[i, \"Unique_Recreational\"] += new_df[\"Unique_Vessels\"][x]\n",
    "            Passage_line_df.loc[i, \"Transits_Recreational\"] += new_df[\"Total_Transits\"][x]\n",
    "        elif (new_df[\"Vessel_Type\"][x] >=60 and new_df[\"Vessel_Type\"][x] <= 69) and new_df[\"Waterway\"][x] == Passage_line_df[\"Waterway\"][i]:\n",
    "            Passage_line_df.loc[i, \"Unique_Passenger\"] += new_df[\"Unique_Vessels\"][x]\n",
    "            Passage_line_df.loc[i, \"Transits_Passenger\"] += new_df[\"Total_Transits\"][x]\n",
    "        elif (new_df[\"Vessel_Type\"][x] >=70 and new_df[\"Vessel_Type\"][x] <= 79) and new_df[\"Waterway\"][x] == Passage_line_df[\"Waterway\"][i]:\n",
    "            Passage_line_df.loc[i, \"Unique_Cargo\"] += new_df[\"Unique_Vessels\"][x]\n",
    "            Passage_line_df.loc[i, \"Transits_Cargo\"] += new_df[\"Total_Transits\"][x]\n",
    "        elif (new_df[\"Vessel_Type\"][x] >=80 and new_df[\"Vessel_Type\"][x] <= 89) and new_df[\"Waterway\"][x] == Passage_line_df[\"Waterway\"][i]:\n",
    "            Passage_line_df.loc[i, \"Unique_Tanker\"] += new_df[\"Unique_Vessels\"][x]\n",
    "            Passage_line_df.loc[i, \"Transits_Tanker\"] += new_df[\"Total_Transits\"][x]\n",
    "            \n",
    "    Passage_line_df.loc[i, \"Unique_Other\"] = Passage_line_df[\"Unique_Total\"][i]\n",
    "    Passage_line_df.loc[i, \"Transits_Other\"] = Passage_line_df[\"Transits_Total\"][i]\n",
    "    \n",
    "    for n in new_df.index:\n",
    "\n",
    "        if new_df[\"Vessel_Type\"][n] == 30 and new_df[\"Waterway\"][n] == Passage_line_df[\"Waterway\"][i]:\n",
    "            Passage_line_df.loc[i, \"Unique_Other\"] -= new_df[\"Unique_Vessels\"][n]\n",
    "            Passage_line_df.loc[i, \"Transits_Other\"] -= new_df[\"Total_Transits\"][n]\n",
    "        elif (new_df[\"Vessel_Type\"][n] == 31 or new_df[\"Vessel_Type\"][n] == 32 or new_df[\"Vessel_Type\"][n] == 52) and new_df[\"Waterway\"][n] == Passage_line_df[\"Waterway\"][i]:\n",
    "            Passage_line_df.loc[i, \"Unique_Other\"] -= new_df[\"Unique_Vessels\"][n]\n",
    "            Passage_line_df.loc[i, \"Transits_Other\"] -= new_df[\"Total_Transits\"][n]\n",
    "        elif (new_df[\"Vessel_Type\"][n] == 36 or new_df[\"Vessel_Type\"][n] == 37) and new_df[\"Waterway\"][n] == Passage_line_df[\"Waterway\"][i]:\n",
    "            Passage_line_df.loc[i, \"Unique_Other\"] -= new_df[\"Unique_Vessels\"][n]\n",
    "            Passage_line_df.loc[i, \"Transits_Other\"] -= new_df[\"Total_Transits\"][n]\n",
    "        elif (new_df[\"Vessel_Type\"][n] >=60 and new_df[\"Vessel_Type\"][n] <= 69) and new_df[\"Waterway\"][n] == Passage_line_df[\"Waterway\"][i]:\n",
    "            Passage_line_df.loc[i, \"Unique_Other\"] -= new_df[\"Unique_Vessels\"][n]\n",
    "            Passage_line_df.loc[i, \"Transits_Other\"] -= new_df[\"Total_Transits\"][n]\n",
    "        elif (new_df[\"Vessel_Type\"][n] >=70 and new_df[\"Vessel_Type\"][n] <= 79) and new_df[\"Waterway\"][n] == Passage_line_df[\"Waterway\"][i]:\n",
    "            Passage_line_df.loc[i, \"Unique_Other\"] -= new_df[\"Unique_Vessels\"][n]\n",
    "            Passage_line_df.loc[i, \"Transits_Other\"] -= new_df[\"Total_Transits\"][n]\n",
    "        elif (new_df[\"Vessel_Type\"][n] >=80 and new_df[\"Vessel_Type\"][n] <= 89) and new_df[\"Waterway\"][n] == Passage_line_df[\"Waterway\"][i]:\n",
    "            Passage_line_df.loc[i, \"Unique_Other\"] -= new_df[\"Unique_Vessels\"][n]\n",
    "            Passage_line_df.loc[i, \"Transits_Other\"] -= new_df[\"Total_Transits\"][n]"
   ]
  },
  {
   "cell_type": "code",
   "execution_count": 12,
   "id": "baf5d994",
   "metadata": {},
   "outputs": [],
   "source": [
    "Passage_line_df.to_csv(\"2021_track_SF.csv\")"
   ]
  },
  {
   "cell_type": "code",
   "execution_count": null,
   "id": "bdc5d2fd",
   "metadata": {},
   "outputs": [],
   "source": []
  },
  {
   "cell_type": "code",
   "execution_count": null,
   "id": "96f6a593",
   "metadata": {},
   "outputs": [],
   "source": []
  }
 ],
 "metadata": {
  "kernelspec": {
   "display_name": "Python 3 (ipykernel)",
   "language": "python",
   "name": "python3"
  },
  "language_info": {
   "codemirror_mode": {
    "name": "ipython",
    "version": 3
   },
   "file_extension": ".py",
   "mimetype": "text/x-python",
   "name": "python",
   "nbconvert_exporter": "python",
   "pygments_lexer": "ipython3",
   "version": "3.9.7"
  }
 },
 "nbformat": 4,
 "nbformat_minor": 5
}
